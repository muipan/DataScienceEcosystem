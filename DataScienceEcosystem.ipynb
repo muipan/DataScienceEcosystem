{
 "cells": [
  {
   "cell_type": "markdown",
   "id": "3b412525",
   "metadata": {},
   "source": [
    "# H1: Data Science Tools and Ecosystem"
   ]
  },
  {
   "cell_type": "markdown",
   "id": "7a51d250",
   "metadata": {},
   "source": [
    "In this notebook, Data Science Tools and Ecosystem are live together."
   ]
  },
  {
   "cell_type": "markdown",
   "id": "d18d76be",
   "metadata": {},
   "source": [
    "**Objectives:**\n",
    "\n",
    "+ Popular languages that Data Scientists use\n",
    "+ Libraries used by Data Scientists\n",
    "+ Arithmetic expression"
   ]
  },
  {
   "cell_type": "markdown",
   "id": "d7ac71d6",
   "metadata": {},
   "source": [
    "Some of the popular languages that Data Scientists use are:\n",
    "1. Python\n",
    "2. R\n",
    "3. SQL\n",
    "4. Java\n",
    "5. C++\n",
    "6. Scala\n",
    "7. JavaScript\n",
    "8. PHP\n",
    "9. Go\n",
    "10. Ruby"
   ]
  },
  {
   "cell_type": "markdown",
   "id": "f54384f8",
   "metadata": {},
   "source": [
    "Some of the commonly used libraries used by Data Scientists include:\n",
    "1. Pandas (Data structures & tools)\n",
    "2. Numpy (Arrays & matrices)\n",
    "3. Matplotlib (plots & graphs)\n",
    "4. Seaborn (plots: heat maps, time series, violin plots)\n",
    "5. Scikit_learn (Machine learning: regression,classification, clustering)\n",
    "6. Keras (Deep Learning Neural Networks)"
   ]
  },
  {
   "cell_type": "markdown",
   "id": "7c7c71c1",
   "metadata": {},
   "source": [
    "| Data Science Tools |\n",
    "| -------------------|\n",
    "| Jupyer Lab         |\n",
    "| RStudio            |\n",
    "| Apache Hadoop      |"
   ]
  },
  {
   "cell_type": "markdown",
   "id": "bd654a08",
   "metadata": {},
   "source": [
    "# H3: Below are a few examples of evaluating arithmetic expressions in Python\n",
    "\n",
    "1. a + b\n",
    "2. a - b\n",
    "3. a * b\n",
    "4. a / b\n"
   ]
  },
  {
   "cell_type": "code",
   "execution_count": 3,
   "id": "13ae583e",
   "metadata": {},
   "outputs": [
    {
     "data": {
      "text/plain": [
       "17"
      ]
     },
     "execution_count": 3,
     "metadata": {},
     "output_type": "execute_result"
    }
   ],
   "source": [
    "#This is a simple arithmetic expression to mutiply then add integers\n",
    "\n",
    "(3*4)+5"
   ]
  },
  {
   "cell_type": "code",
   "execution_count": 4,
   "id": "eac4b303",
   "metadata": {},
   "outputs": [
    {
     "data": {
      "text/plain": [
       "3.3333333333333335"
      ]
     },
     "execution_count": 4,
     "metadata": {},
     "output_type": "execute_result"
    }
   ],
   "source": [
    "#This will convert 200 minutes to hours by diving by 60\n",
    "\n",
    "200/60"
   ]
  },
  {
   "cell_type": "markdown",
   "id": "9efce11c",
   "metadata": {},
   "source": [
    "# H2: Author\n",
    "\n",
    "Miguel Angel Uipan Chávez"
   ]
  },
  {
   "cell_type": "code",
   "execution_count": null,
   "id": "3b7d1621",
   "metadata": {},
   "outputs": [],
   "source": []
  }
 ],
 "metadata": {
  "kernelspec": {
   "display_name": "Python 3 (ipykernel)",
   "language": "python",
   "name": "python3"
  },
  "language_info": {
   "codemirror_mode": {
    "name": "ipython",
    "version": 3
   },
   "file_extension": ".py",
   "mimetype": "text/x-python",
   "name": "python",
   "nbconvert_exporter": "python",
   "pygments_lexer": "ipython3",
   "version": "3.10.9"
  }
 },
 "nbformat": 4,
 "nbformat_minor": 5
}
